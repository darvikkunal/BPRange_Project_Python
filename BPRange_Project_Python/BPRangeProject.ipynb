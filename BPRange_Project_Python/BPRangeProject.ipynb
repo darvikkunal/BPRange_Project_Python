{
 "cells": [
  {
   "cell_type": "markdown",
   "metadata": {},
   "source": [
    "Project Name: BP ranges Using Tkinter GUI\n",
    "\n",
    "Reference : https://www.geeksforgeeks.org/python-gui-tkinter/ \n",
    "\n",
    "Author : DarvikKunal Banda"
   ]
  },
  {
   "cell_type": "code",
   "execution_count": 1,
   "metadata": {},
   "outputs": [
    {
     "name": "stderr",
     "output_type": "stream",
     "text": [
      "Exception in Tkinter callback\n",
      "Traceback (most recent call last):\n",
      "  File \"c:\\Users\\Darvi\\AppData\\Local\\Programs\\Python\\Python312\\Lib\\tkinter\\__init__.py\", line 1948, in __call__\n",
      "    return self.func(*args)\n",
      "           ^^^^^^^^^^^^^^^^\n",
      "  File \"C:\\Users\\Darvi\\AppData\\Local\\Temp\\ipykernel_14312\\66178744.py\", line 9, in check_bp\n",
      "    age = int(age_var.get())\n",
      "          ^^^^^^^^^^^^^^^^^^\n",
      "ValueError: invalid literal for int() with base 10: ''\n"
     ]
    }
   ],
   "source": [
    "# Importing Required Libraries\n",
    "import tkinter as tk\n",
    "from tkinter import IntVar, Label, Menu, Radiobutton, StringVar, messagebox\n",
    "\n",
    "# Defining Function to Check Blood Pressure\n",
    "def check_bp():\n",
    "    name = name_var.get()\n",
    "    gender = 'Male' if gender_var.get() == 1 else 'Female'\n",
    "    age = int(age_var.get())\n",
    "    systolic = int(systolic_var.get())\n",
    "    diastolic = int(diastolic_var.get())\n",
    "    \n",
    "    if systolic < 120 and diastolic < 80:\n",
    "        bp_status = \"Healthy\"\n",
    "    elif 120 <= systolic <= 129 and diastolic < 80:\n",
    "        bp_status = \"Elevated\"\n",
    "    elif 130 <= systolic <= 139 or 80 <= diastolic <= 89:\n",
    "        bp_status = \"Stage 1 Hypertension\"\n",
    "    elif 140 <= systolic <= 179 or 90 <= diastolic <= 119:\n",
    "        bp_status = \"Stage 2 Hypertension\"\n",
    "    elif systolic >= 180 or diastolic >= 120:\n",
    "        bp_status = \"Hypertension Crisis\"\n",
    "    else:\n",
    "        bp_status = \"Please enter correct blood pressure values\"\n",
    "    \n",
    "    report = f\"\"\"\n",
    "    Report of the Patient:\n",
    "        Patient Name: {name}\n",
    "        Patient Gender: {gender}\n",
    "        Patient Age: {age}\n",
    "        Systolic Blood Pressure: {systolic}\n",
    "        Diastolic Blood Pressure: {diastolic}\n",
    "        Blood Pressure Status: {bp_status}\n",
    "    \"\"\"\n",
    "    \n",
    "    messagebox.showinfo(\"Blood Pressure Report\", report)\n",
    "\n",
    "# Creating a GUI Window using Tkinter\n",
    "r = tk.Tk()\n",
    "r.title(\"Blood Pressure Range\")\n",
    "\n",
    "name_var = StringVar()\n",
    "gender_var = IntVar()\n",
    "age_var = StringVar()\n",
    "systolic_var = StringVar()\n",
    "diastolic_var = StringVar()\n",
    "\n",
    "Label(r, text=\"Patient Name:\").pack()\n",
    "tk.Entry(r, textvariable=name_var).pack()\n",
    "\n",
    "Label(r, text=\"Patient Gender:\").pack()\n",
    "Radiobutton(r, text='Male', variable=gender_var, value=1).pack(anchor='w')\n",
    "Radiobutton(r, text='Female', variable=gender_var, value=2).pack(anchor='w')\n",
    "\n",
    "Label(r, text=\"Patient Age:\").pack()\n",
    "tk.Entry(r, textvariable=age_var).pack()\n",
    "\n",
    "Label(r, text=\"Systolic Blood Pressure (mm Hg):\").pack()\n",
    "tk.Entry(r, textvariable=systolic_var).pack()\n",
    "\n",
    "Label(r, text=\"Diastolic Blood Pressure (mm Hg):\").pack()\n",
    "tk.Entry(r, textvariable=diastolic_var).pack()\n",
    "\n",
    "tk.Button(r, text='Check Blood Pressure', command=check_bp).pack()\n",
    "\n",
    "# Creating a Menu Bar\n",
    "menu = Menu(r)\n",
    "r.config(menu=menu)\n",
    "filemenu = Menu(menu)\n",
    "menu.add_cascade(label='File', menu=filemenu)\n",
    "filemenu.add_command(label='New')\n",
    "filemenu.add_command(label='Open...')\n",
    "filemenu.add_separator()\n",
    "filemenu.add_command(label='Exit', command=r.quit)\n",
    "helpmenu = Menu(menu)\n",
    "menu.add_cascade(label='Help', menu=helpmenu)\n",
    "helpmenu.add_command(label='About')\n",
    "\n",
    "r.mainloop()\n"
   ]
  }
 ],
 "metadata": {
  "kernelspec": {
   "display_name": "base",
   "language": "python",
   "name": "python3"
  },
  "language_info": {
   "codemirror_mode": {
    "name": "ipython",
    "version": 3
   },
   "file_extension": ".py",
   "mimetype": "text/x-python",
   "name": "python",
   "nbconvert_exporter": "python",
   "pygments_lexer": "ipython3",
   "version": "3.12.0"
  }
 },
 "nbformat": 4,
 "nbformat_minor": 2
}
